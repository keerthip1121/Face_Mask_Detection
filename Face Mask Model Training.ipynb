{
 "cells": [
  {
   "cell_type": "markdown",
   "metadata": {},
   "source": [
    "#### Problem Statement:\n",
    "    Train a CNN model that classifies images of 'With mask' and 'Without mask'. Later use this model to detect whether faces are with mask or not that are captured in webcam."
   ]
  },
  {
   "cell_type": "markdown",
   "metadata": {},
   "source": [
    "##### Abstract:\n",
    "    From past 1year we are facing COVID-19 pandemic all over the world. Many people got attacked by the deadly virus Corona. There are many precautions to be taken care of, to avoid getting attacked by this virus. Of them, wearing a mask is one of the most and major precaution to be taken care of. Because, air inhaled and exhaled is an easiest way of transmission, and also a mask will stop you from touching your nose or mouth after touching any kind of surface or a person that might lead virus to enter the body. But we can observe some people not wearing mask properly, which might result in rise of daily cases. So, by not wearing mask, they are not the only one at risk, but they are putting others life at risk. To identify such kind of people in public gathering and warn them to wear a mask or adjust their mask properly is not that easy thing for a human directly."
   ]
  },
  {
   "cell_type": "markdown",
   "metadata": {},
   "source": [
    "    My project is on the same, to detect people faces, wearing a mask or not. I'm going to run this project using my web cam here. This can be used in survillance cameras to monitor people who are not wearing mask and warn them immediately to put on. Of course in some places it is already in practice."
   ]
  },
  {
   "cell_type": "markdown",
   "metadata": {},
   "source": [
    "##### Description of project:\n",
    "    Here, i've taken a dataset which contains 440 images. Of them, 220 images consists of people images with mask and rest of them contains images without mask."
   ]
  },
  {
   "cell_type": "markdown",
   "metadata": {},
   "source": [
    "    Here I'm using CNN image classification and Opencv concepts to perform this project.\n",
    "\n",
    "    First, I'm going to train a model using convolutional neural networks of deep learning, for image classification to classify images with and without masks.\n",
    "\n",
    "    Later, using harcascade code of detecting faces, I will be detecting faces of people with my web cam using Opencv library. By using the above CNN model here, we can identify faces with or without masks. "
   ]
  },
  {
   "cell_type": "markdown",
   "metadata": {},
   "source": [
    "###### Lets build CNN model\n",
    "    For deep learning algorithms we use Keras library which uses tensorflow in backend."
   ]
  },
  {
   "cell_type": "code",
   "execution_count": 2,
   "metadata": {},
   "outputs": [],
   "source": [
    "# importing required libraries\n",
    "\n",
    "import numpy as np\n",
    "from keras.models import Sequential\n",
    "from keras.layers import Dense, Conv2D, MaxPooling2D, Flatten, Dropout\n",
    "from keras.preprocessing.image import ImageDataGenerator\n",
    "import matplotlib.pyplot as plt"
   ]
  },
  {
   "cell_type": "markdown",
   "metadata": {},
   "source": [
    " Sequential is a class in models package used to initialse Neural Network(NN) models"
   ]
  },
  {
   "cell_type": "code",
   "execution_count": 3,
   "metadata": {},
   "outputs": [],
   "source": [
    "# initialise NN model\n",
    "\n",
    "model=Sequential()"
   ]
  },
  {
   "cell_type": "markdown",
   "metadata": {},
   "source": [
    "###### Add Convolutional Layer\n",
    "    Group of Feature Maps ==> Convolutional layer.\n",
    "    \n",
    "    - When input image is convolued with a filter or feature detector, we get a resultant called Feature Map.\n",
    "    \n",
    "    - During Convolution process, size of image is reduced. So, we may lose some information, but feature detector will help to match and lets us to get main feature.\n",
    "    \n",
    "    -We apply multiple filters to a single image to extract features, which results multiple feature maps.\n",
    "\n",
    "Types of filters --- Sharpen image,\n",
    "                     Blur image,\n",
    "                     Edge,\n",
    "                     Emboss."
   ]
  },
  {
   "cell_type": "code",
   "execution_count": 4,
   "metadata": {},
   "outputs": [],
   "source": [
    "'''\n",
    "\"Hyper parameters\"\n",
    "*filters-- No. of Filters or Feature Detector\n",
    "*kernal_size-- filter size\n",
    "*strides-- No. of steps to move our filter\n",
    "*input_shape-- Shape of input image(system should be capable of processing high pixel image)\n",
    "               (100,100,1)-- (Height,Width,No. of channels)\n",
    "'''\n",
    "model.add(Conv2D(filters=64,kernel_size=(3,3),activation='relu',input_shape=(100,100,1)))\n",
    "model.add(Conv2D(filters=64,kernel_size=(3,3),activation='relu',input_shape=(100,100,1)))\n",
    "model.add(Conv2D(filters=64,kernel_size=(3,3),activation='relu',input_shape=(100,100,1)))"
   ]
  },
  {
   "cell_type": "markdown",
   "metadata": {},
   "source": [
    "###### Add Pooling layer\n",
    "    Max Pooling is used to \n",
    "    - Avoid overfitting while training (Model trained with same pixels multiple times)\n",
    "    - Solve Spacial invariance(distortion) --- Same feature in different positions in diff images"
   ]
  },
  {
   "cell_type": "markdown",
   "metadata": {},
   "source": [
    "    - Resultant of convolutional layer(Feature map) is the input for Pooling layer.\n",
    "    - We select a pool size and from each pool, max pixel value is taken ==> Neighbor features are removed by retaining max pixel value which resolves overfitting.\n",
    "    - As we are taking max of pixels, we are checking for distortion.\n",
    "    - Resultant of pooling layer --- Pooled Feature Map."
   ]
  },
  {
   "cell_type": "code",
   "execution_count": 5,
   "metadata": {},
   "outputs": [],
   "source": [
    "# pool_size --- size of pool to extract max pixel value.\n",
    "\n",
    "model.add(MaxPooling2D(pool_size=(2,2)))"
   ]
  },
  {
   "cell_type": "code",
   "execution_count": 6,
   "metadata": {},
   "outputs": [],
   "source": [
    "model.add(Conv2D(filters=128,kernel_size=(3,3),activation='relu'))\n",
    "model.add(Conv2D(filters=128,kernel_size=(3,3),activation='relu'))\n",
    "model.add(Conv2D(filters=128,kernel_size=(3,3),activation='relu'))\n",
    "model.add(MaxPooling2D(pool_size=(2,2)))"
   ]
  },
  {
   "cell_type": "markdown",
   "metadata": {},
   "source": [
    "###### Add Flatten layer\n",
    "    Takes resultant of Pooling layer(pooled feature map) as input and flattens it(converts to 1D array).\n",
    "    \n",
    "    Resultant Flattening layer will be input for ANN(Artificial Neural Network)."
   ]
  },
  {
   "cell_type": "code",
   "execution_count": 7,
   "metadata": {},
   "outputs": [],
   "source": [
    "model.add(Flatten())"
   ]
  },
  {
   "cell_type": "markdown",
   "metadata": {},
   "source": [
    "###### Add Dropout layer\n",
    "    Dropout is a regularization technique for reducing overfitting in neural networks by preventing complex co-adaptations on training data. \n",
    "\n",
    "     Co-adaptation refers to when multiple neurons in a layer extract the same, or very similar, hidden features from the input data. This can happen when the connection weights for two different neurons are nearly identical.\n",
    "\n",
    "\n",
    "    It is a very efficient way of performing model averaging with neural networks. The term \"dropout\" refers to dropping out units (both hidden and visible) in a neural network."
   ]
  },
  {
   "cell_type": "code",
   "execution_count": 8,
   "metadata": {},
   "outputs": [],
   "source": [
    "# fraction of the input units to drop, taken b/w 0-1\n",
    "\n",
    "model.add(Dropout(0.5))"
   ]
  },
  {
   "cell_type": "markdown",
   "metadata": {},
   "source": [
    "###### Add Fully Connected Layer or Hidden Layer"
   ]
  },
  {
   "cell_type": "code",
   "execution_count": 9,
   "metadata": {},
   "outputs": [],
   "source": [
    "'''\n",
    "*Dense--- layer\n",
    "*activation--- relu--- to avoid -ve values in inputs\n",
    "*units--- hyper parameter--- no. of outputs from each current layer == no. of neurons in hidden layer\n",
    "'''\n",
    "model.add(Dense(units=120,activation='relu'))"
   ]
  },
  {
   "cell_type": "markdown",
   "metadata": {},
   "source": [
    "###### Add Output layer"
   ]
  },
  {
   "cell_type": "code",
   "execution_count": 10,
   "metadata": {},
   "outputs": [],
   "source": [
    "# activation= softmax--> for multi categorical data--> 2 categories\n",
    "# units=2----  with mask, without mask\n",
    "\n",
    "model.add(Dense(units=2,activation='softmax'))"
   ]
  },
  {
   "cell_type": "code",
   "execution_count": 11,
   "metadata": {},
   "outputs": [
    {
     "name": "stdout",
     "output_type": "stream",
     "text": [
      "Model: \"sequential\"\n",
      "_________________________________________________________________\n",
      "Layer (type)                 Output Shape              Param #   \n",
      "=================================================================\n",
      "conv2d (Conv2D)              (None, 98, 98, 64)        640       \n",
      "_________________________________________________________________\n",
      "conv2d_1 (Conv2D)            (None, 96, 96, 64)        36928     \n",
      "_________________________________________________________________\n",
      "conv2d_2 (Conv2D)            (None, 94, 94, 64)        36928     \n",
      "_________________________________________________________________\n",
      "max_pooling2d (MaxPooling2D) (None, 47, 47, 64)        0         \n",
      "_________________________________________________________________\n",
      "conv2d_3 (Conv2D)            (None, 45, 45, 128)       73856     \n",
      "_________________________________________________________________\n",
      "conv2d_4 (Conv2D)            (None, 43, 43, 128)       147584    \n",
      "_________________________________________________________________\n",
      "conv2d_5 (Conv2D)            (None, 41, 41, 128)       147584    \n",
      "_________________________________________________________________\n",
      "max_pooling2d_1 (MaxPooling2 (None, 20, 20, 128)       0         \n",
      "_________________________________________________________________\n",
      "flatten (Flatten)            (None, 51200)             0         \n",
      "_________________________________________________________________\n",
      "dropout (Dropout)            (None, 51200)             0         \n",
      "_________________________________________________________________\n",
      "dense (Dense)                (None, 120)               6144120   \n",
      "_________________________________________________________________\n",
      "dense_1 (Dense)              (None, 2)                 242       \n",
      "=================================================================\n",
      "Total params: 6,587,882\n",
      "Trainable params: 6,587,882\n",
      "Non-trainable params: 0\n",
      "_________________________________________________________________\n"
     ]
    }
   ],
   "source": [
    "# for summary of model\n",
    "\n",
    "model.summary()"
   ]
  },
  {
   "cell_type": "markdown",
   "metadata": {},
   "source": [
    "###### Compile the Model"
   ]
  },
  {
   "cell_type": "code",
   "execution_count": 12,
   "metadata": {},
   "outputs": [],
   "source": [
    "'''\n",
    "    Mention the strategiesto be followed by NN while training\n",
    "loss--- error calculating strategy==> -sum(y log(p))\n",
    "optimizer--- Model optimization strategy/ Weights updation strategy\n",
    "adam--- Mini Batch Gradient descent\n",
    "metrics--- Model evaluation strategy\n",
    "'''\n",
    "model.compile(loss='categorical_crossentropy',\n",
    "              optimizer='adam',\n",
    "              metrics=['accuracy'])\n"
   ]
  },
  {
   "cell_type": "markdown",
   "metadata": {},
   "source": [
    "###### Import Images \n",
    "    We use ImageDataGenerator to import multiple images"
   ]
  },
  {
   "cell_type": "code",
   "execution_count": 13,
   "metadata": {},
   "outputs": [
    {
     "name": "stdout",
     "output_type": "stream",
     "text": [
      "Found 10000 images belonging to 2 classes.\n",
      "Found 800 images belonging to 2 classes.\n"
     ]
    }
   ],
   "source": [
    "train_path='D:\\Project\\mask\\Train'\n",
    "test_path='D:\\Project\\mask\\Validation'\n",
    "\n",
    "# rescale--- convertingimage into one scale\n",
    "train_batches=ImageDataGenerator(rescale=1./255).flow_from_directory(\n",
    "        train_path,\n",
    "        color_mode='grayscale',\n",
    "        target_size=(100, 100),\n",
    "        shuffle=True,\n",
    "        classes=['WithMask','WithoutMask'])\n",
    "            \n",
    "test_batches=ImageDataGenerator(rescale=1./255).flow_from_directory(\n",
    "        test_path,\n",
    "        target_size=(100, 100),\n",
    "        shuffle=True,\n",
    "        color_mode='grayscale',\n",
    "        classes=['WithMask','WithoutMask'])\n"
   ]
  },
  {
   "cell_type": "code",
   "execution_count": 14,
   "metadata": {},
   "outputs": [
    {
     "data": {
      "text/plain": [
       "{'WithMask': 0, 'WithoutMask': 1}"
      ]
     },
     "execution_count": 14,
     "metadata": {},
     "output_type": "execute_result"
    }
   ],
   "source": [
    "train_batches.class_indices"
   ]
  },
  {
   "cell_type": "code",
   "execution_count": 15,
   "metadata": {},
   "outputs": [
    {
     "name": "stdout",
     "output_type": "stream",
     "text": [
      "Epoch 1/10\n",
      "100/100 [==============================] - 252s 3s/step - loss: 0.5702 - accuracy: 0.6797 - val_loss: 0.3465 - val_accuracy: 0.8363\n",
      "Epoch 2/10\n",
      "100/100 [==============================] - 248s 2s/step - loss: 0.2152 - accuracy: 0.9187 - val_loss: 0.1107 - val_accuracy: 0.9563\n",
      "Epoch 3/10\n",
      "100/100 [==============================] - 251s 3s/step - loss: 0.1099 - accuracy: 0.9614 - val_loss: 0.0792 - val_accuracy: 0.9613\n",
      "Epoch 4/10\n",
      "100/100 [==============================] - 270s 3s/step - loss: 0.0877 - accuracy: 0.9697 - val_loss: 0.0837 - val_accuracy: 0.9712\n",
      "Epoch 5/10\n",
      "100/100 [==============================] - 257s 3s/step - loss: 0.0687 - accuracy: 0.9768 - val_loss: 0.0628 - val_accuracy: 0.9700\n",
      "Epoch 6/10\n",
      "100/100 [==============================] - 257s 3s/step - loss: 0.0603 - accuracy: 0.9784 - val_loss: 0.0541 - val_accuracy: 0.9775\n",
      "Epoch 7/10\n",
      "100/100 [==============================] - 255s 3s/step - loss: 0.0663 - accuracy: 0.9766 - val_loss: 0.0656 - val_accuracy: 0.9750\n",
      "Epoch 8/10\n",
      "100/100 [==============================] - 1836s 18s/step - loss: 0.0692 - accuracy: 0.9756 - val_loss: 0.0928 - val_accuracy: 0.9613\n",
      "Epoch 9/10\n",
      "100/100 [==============================] - 254s 3s/step - loss: 0.0576 - accuracy: 0.9777 - val_loss: 0.0617 - val_accuracy: 0.9762\n",
      "Epoch 10/10\n",
      "100/100 [==============================] - 255s 3s/step - loss: 0.0573 - accuracy: 0.9816 - val_loss: 0.0738 - val_accuracy: 0.9737\n"
     ]
    }
   ],
   "source": [
    "history = model.fit(train_batches,epochs=10,\n",
    "                           validation_data=test_batches,verbose=1,shuffle=True,steps_per_epoch=100)       \n"
   ]
  },
  {
   "cell_type": "code",
   "execution_count": 16,
   "metadata": {},
   "outputs": [
    {
     "data": {
      "image/png": "[encoded data removed]",
      "text/plain": [
       "<Figure size 432x288 with 1 Axes>"
      ]
     },
     "metadata": {
      "needs_background": "light"
     },
     "output_type": "display_data"
    },
    {
     "data": {
      "image/png": "[encoded data removed]",
      "text/plain": [
       "<Figure size 432x288 with 1 Axes>"
      ]
     },
     "metadata": {
      "needs_background": "light"
     },
     "output_type": "display_data"
    }
   ],
   "source": [
    "# Plotting Loss\n",
    "plt.plot(history.history['loss'], label='Train loss')\n",
    "plt.plot(history.history['val_loss'], label='Validation loss')\n",
    "plt.legend()\n",
    "plt.show()\n",
    "\n",
    "# Plotting Accuracies\n",
    "plt.plot(history.history['accuracy'], label='Train accuracy')\n",
    "plt.plot(history.history['val_accuracy'], label='Validation Accuracy')\n",
    "plt.legend()\n",
    "plt.show()"
   ]
  },
  {
   "cell_type": "code",
   "execution_count": 17,
   "metadata": {},
   "outputs": [],
   "source": [
    "# saving the model\n",
    "model.save('mask_detect.h5') "
   ]
  },
  {
   "cell_type": "markdown",
   "metadata": {},
   "source": [
    "So, finally we got the Accuracy score of 0.9800 and validation score of 0.9737 which is a good one to proceed further."
   ]
  },
  {
   "cell_type": "markdown",
   "metadata": {},
   "source": [
    "Now we load the saved model and get some predictions from them"
   ]
  },
  {
   "cell_type": "code",
   "execution_count": 18,
   "metadata": {},
   "outputs": [],
   "source": [
    "from keras.models import load_model\n",
    "from keras.preprocessing import image\n",
    "import cv2"
   ]
  },
  {
   "cell_type": "code",
   "execution_count": 19,
   "metadata": {},
   "outputs": [],
   "source": [
    "import numpy as np"
   ]
  },
  {
   "cell_type": "code",
   "execution_count": 20,
   "metadata": {},
   "outputs": [],
   "source": [
    "model = load_model('mask_detect.h5')"
   ]
  },
  {
   "cell_type": "code",
   "execution_count": 21,
   "metadata": {},
   "outputs": [],
   "source": [
    "# creating a function to predict image\n",
    "def detect(frame):\n",
    "    # resize image to req size and convert it to gray scale\n",
    "    img=cv2.resize(frame,(100,100))\n",
    "    img=cv2.cvtColor(img,cv2.COLOR_BGR2GRAY)\n",
    "    # convert imag eto array and scaling to 0-1 range\n",
    "    img_pixels = image.img_to_array(img)\n",
    "    img_pixels = np.expand_dims(img_pixels, axis = 0)\n",
    "    img_pixels /= 255\n",
    "    \n",
    "    # predicting\n",
    "    predictions = model.predict(img_pixels)\n",
    "    ind = np.argmax(predictions[0])\n",
    "    label=['WithMask','WithoutMask']\n",
    "    print('Prediction:',predictions)\n",
    "    return label[ind]"
   ]
  },
  {
   "cell_type": "code",
   "execution_count": 22,
   "metadata": {},
   "outputs": [],
   "source": [
    "img=cv2.imread(r'D:\\Project\\mask\\Validation\\WithMask\\40.png')"
   ]
  },
  {
   "cell_type": "code",
   "execution_count": 23,
   "metadata": {},
   "outputs": [
    {
     "name": "stdout",
     "output_type": "stream",
     "text": [
      "Prediction: [[0.99056435 0.00943562]]\n"
     ]
    },
    {
     "data": {
      "text/plain": [
       "'WithMask'"
      ]
     },
     "execution_count": 23,
     "metadata": {},
     "output_type": "execute_result"
    }
   ],
   "source": [
    "# calling the detect() function\n",
    "detect(img)"
   ]
  },
  {
   "cell_type": "code",
   "execution_count": 24,
   "metadata": {},
   "outputs": [
    {
     "data": {
      "text/plain": [
       "-1"
      ]
     },
     "execution_count": 24,
     "metadata": {},
     "output_type": "execute_result"
    }
   ],
   "source": [
    "# displaying the image using cv2\n",
    "cv2.imshow('image',img)\n",
    "cv2.waitKey()"
   ]
  },
  {
   "cell_type": "code",
   "execution_count": null,
   "metadata": {},
   "outputs": [],
   "source": []
  }
 ],
 "metadata": {
  "kernelspec": {
   "display_name": "Python 3",
   "language": "python",
   "name": "python3"
  },
  "language_info": {
   "codemirror_mode": {
    "name": "ipython",
    "version": 3
   },
   "file_extension": ".py",
   "mimetype": "text/x-python",
   "name": "python",
   "nbconvert_exporter": "python",
   "pygments_lexer": "ipython3",
   "version": "3.7.6"
  }
 },
 "nbformat": 4,
 "nbformat_minor": 4
}
